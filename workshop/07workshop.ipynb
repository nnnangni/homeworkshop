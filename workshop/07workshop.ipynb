{
 "cells": [
  {
   "cell_type": "code",
   "execution_count": 1,
   "metadata": {},
   "outputs": [
    {
     "name": "stdout",
     "output_type": "stream",
     "text": [
      "둘레:18.84\n",
      "넓이:28.259999999999998\n"
     ]
    }
   ],
   "source": [
    "# 반지름이 3이고 x, y 좌표가 (2,4)인 원을 만들어 넓이와 둘레를 출력하세요\n",
    "\n",
    "class Circle:\n",
    "    pi = 3.14\n",
    "    x = 0\n",
    "    y = 0\n",
    "    r = 0\n",
    "    \n",
    "    def area(self):\n",
    "        return self.pi * self.r * self.r\n",
    "    \n",
    "    def circumference(self):\n",
    "        return 2 * self.pi * self.r\n",
    "    \n",
    "    def center(self):\n",
    "        return (self.x,self.y)\n",
    "    \n",
    "    def move(self, x, y):\n",
    "        self.x = x\n",
    "        self.y = y\n",
    "        \n",
    "circle = Circle()\n",
    "circle.x = 2\n",
    "circle.y = 4\n",
    "circle.r = 3\n",
    "\n",
    "print(f\"둘레:{circle.circumference()}\")\n",
    "print(f\"넓이:{circle.area()}\")\n"
   ]
  },
  {
   "cell_type": "code",
   "execution_count": 4,
   "metadata": {},
   "outputs": [
    {
     "name": "stdout",
     "output_type": "stream",
     "text": [
      "둘레:18.84\n",
      "넓이:28.259999999999998\n"
     ]
    }
   ],
   "source": [
    "# 선생님풀이\n",
    "my_o = Circle()\n",
    "my_o.r = 3\n",
    "my_o.move(2,4)\n",
    "print(f\"둘레:{my_o.circumference()}\")\n",
    "print(f\"넓이:{my_o.area()}\")"
   ]
  },
  {
   "cell_type": "code",
   "execution_count": 10,
   "metadata": {},
   "outputs": [],
   "source": [
    "class Person:\n",
    "    name = \"임시이름\"\n",
    "    age = 100\n",
    "    \n",
    "    def __init__(self, n, a): # person이라는 클래스를 특정한 인스턴스로 바꿀 때마다 실행\n",
    "        print(\"안녕 나는 init안에 있어\")\n",
    "        self.name = n\n",
    "        self.age = a\n",
    "        \n",
    "    def greeting(self):\n",
    "        print(f\"안녕 내 이름은 {self.name}\")"
   ]
  },
  {
   "cell_type": "code",
   "execution_count": 15,
   "metadata": {},
   "outputs": [
    {
     "name": "stdout",
     "output_type": "stream",
     "text": [
      "안녕 나는 init안에 있어\n",
      "나원\n",
      "100\n"
     ]
    }
   ],
   "source": [
    "nawoN = Person(\"나원\", 100)\n",
    "print(nawoN.name)\n",
    "print(nawoN.age)"
   ]
  },
  {
   "cell_type": "code",
   "execution_count": null,
   "metadata": {},
   "outputs": [],
   "source": []
  }
 ],
 "metadata": {
  "kernelspec": {
   "display_name": "Python 3",
   "language": "python",
   "name": "python3"
  },
  "language_info": {
   "codemirror_mode": {
    "name": "ipython",
    "version": 3
   },
   "file_extension": ".py",
   "mimetype": "text/x-python",
   "name": "python",
   "nbconvert_exporter": "python",
   "pygments_lexer": "ipython3",
   "version": "3.6.7"
  }
 },
 "nbformat": 4,
 "nbformat_minor": 2
}
