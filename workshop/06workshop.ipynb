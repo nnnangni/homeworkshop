{
 "cells": [
  {
   "cell_type": "code",
   "execution_count": 16,
   "metadata": {},
   "outputs": [
    {
     "data": {
      "text/plain": [
       "1.4141845703125"
      ]
     },
     "execution_count": 16,
     "metadata": {},
     "output_type": "execute_result"
    }
   ],
   "source": [
    "def my_sqrt(n):\n",
    "    # 양의 정수를 넣기때문에 1보다는 크고 n의 제곱보다는 작음(=>루트값의 제곱인 n을 줌)\n",
    "    left = 1\n",
    "    right = n\n",
    "    answer = 0\n",
    "    \n",
    "    # 구하려고 하는 제곱근을 제곱한 결과와 n의 차이가 0.00001보다 크면 계속 반복\n",
    "    while abs(answer**2 - n) > 0.0001: # (answer - 루트n을 비교하는중)\n",
    "        \n",
    "        # 양 쪽 끝의 숫자의 중간 지점을 찾는다.\n",
    "        answer = (left + right) / 2\n",
    "        \n",
    "        # 만약 answer의 제곱이 n보다 작으면 맨 왼쪽으로 기준점 변경\n",
    "        if answer**2 < n:\n",
    "            left = answer\n",
    "        else:\n",
    "            right = answer\n",
    "    \n",
    "    return answer\n",
    "    \n",
    "    \n",
    "my_sqrt(2)"
   ]
  }
 ],
 "metadata": {
  "kernelspec": {
   "display_name": "Python 3",
   "language": "python",
   "name": "python3"
  },
  "language_info": {
   "codemirror_mode": {
    "name": "ipython",
    "version": 3
   },
   "file_extension": ".py",
   "mimetype": "text/x-python",
   "name": "python",
   "nbconvert_exporter": "python",
   "pygments_lexer": "ipython3",
   "version": "3.6.7"
  }
 },
 "nbformat": 4,
 "nbformat_minor": 2
}
